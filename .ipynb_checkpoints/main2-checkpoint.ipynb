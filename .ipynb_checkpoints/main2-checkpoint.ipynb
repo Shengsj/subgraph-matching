{
 "cells": [
  {
   "cell_type": "code",
   "execution_count": 25,
   "metadata": {
    "collapsed": false
   },
   "outputs": [
    {
     "name": "stdout",
     "output_type": "stream",
     "text": [
      "1\n",
      "1\n",
      "1\n",
      "[]\n",
      "[]\n"
     ]
    },
    {
     "data": {
      "image/png": "[encoded data removed]",
      "text/plain": [
       "<matplotlib.figure.Figure at 0x48961d0>"
      ]
     },
     "metadata": {},
     "output_type": "display_data"
    }
   ],
   "source": [
    "#!/usr/bin/python  \n",
    "# -*- coding:utf-8 -*- \n",
    "\n",
    "import json\n",
    "import graph\n",
    "import networkx as nx\n",
    "import matplotlib.pyplot as plt\n",
    "\n",
    "data={}\n",
    "with open('data.json','r') as json_file:\n",
    "\tdata = json.load(json_file)\n",
    "# print type(json.loads(data)),data\n",
    "# print json.loads(data)['dblp']['www']\n",
    "\n",
    "dblp=json.loads(data)['dblp']['article']\n",
    "# 删去 不全的点\n",
    "dblp = [d for d in dblp if 'author' in d.keys()]\n",
    "# for paper in dblp:\n",
    "# \tprint\n",
    "title_author=dict([(d['title'],d['author']) for d in dblp if 'author' in d.keys()] )\n",
    "# title_author=[lambda d:(d['title'],d['author']) for d in dblp if 'author' in d.keys()] \n",
    "# print dict(title_author)\n",
    "# print json.dumps(title_author,indent=4)\n",
    "\n",
    "edges = [(vertex_from, vertex_to)\n",
    "            for vertex_from in title_author.keys()\n",
    "            for vertex_to in title_author[vertex_from] if type(vertex_to) == list]\n",
    "edges=[]\n",
    "for vertex_from in title_author:\n",
    "    if type(title_author[vertex_from]) == list:\n",
    "        edges.append(vertex_from,vertex_to)\n",
    "    else:\n",
    "        for vertex_to in title_author[vertex_from]:\n",
    "            edges.append(vertex_from,vertex_to)\n",
    "print edges\n",
    "G=nx.Graph()\n",
    "G.add_edges_from(edges)\n",
    "\n",
    "\n",
    "# degree =  nx.degree_histogram(G)          \n",
    "# # 返回图中所有节点的度分布序列\n",
    "# x = range(len(degree))   #生成x轴序列，从1到最大度\n",
    "# y = [z / float(sum(degree)) for z in degree]  \n",
    "# print x\n",
    "# #将频次转换为频率，这用到Python的一个小技巧：列表内涵，Python的确很方便：）\n",
    "# plt.loglog(x,y,color=\"blue\",linewidth=2)  \n",
    "# #在双对数坐标轴上绘制度分布曲线  \n",
    "# plt.show()      #显示图表\n",
    "print G.edges()\n",
    "\n",
    "pos = nx.spring_layout(G)          #定义一个布局，此处采用了spectral布局方式，后变还会介绍其它布局方式，注意图形上的区别\n",
    "nx.draw(G,pos,with_labels=False,node_size = 5)  #绘制规则图的图形，with_labels决定节点是非带标签（编号），node_size是节点的直径\n",
    "plt.show()  #显示图形  http://www.oschina.net/question/54100_77524\n"
   ]
  }
 ],
 "metadata": {
  "anaconda-cloud": {},
  "kernelspec": {
   "display_name": "Python [default]",
   "language": "python",
   "name": "python2"
  },
  "language_info": {
   "codemirror_mode": {
    "name": "ipython",
    "version": 2
   },
   "file_extension": ".py",
   "mimetype": "text/x-python",
   "name": "python",
   "nbconvert_exporter": "python",
   "pygments_lexer": "ipython2",
   "version": "2.7.12"
  }
 },
 "nbformat": 4,
 "nbformat_minor": 1
}
